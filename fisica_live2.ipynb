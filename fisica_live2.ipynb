{
  "nbformat": 4,
  "nbformat_minor": 0,
  "metadata": {
    "colab": {
      "name": "fisica_live2",
      "provenance": [],
      "collapsed_sections": [
        "htMMSRG-q0wJ"
      ],
      "authorship_tag": "ABX9TyO+AHgm2mJH64ceRzfgD6Eh",
      "include_colab_link": true
    },
    "kernelspec": {
      "name": "python3",
      "display_name": "Python 3"
    }
  },
  "cells": [
    {
      "cell_type": "markdown",
      "metadata": {
        "id": "view-in-github",
        "colab_type": "text"
      },
      "source": [
        "<a href=\"https://colab.research.google.com/github/adeil83/fisicacomp/blob/master/fisica_live2.ipynb\" target=\"_parent\"><img src=\"https://colab.research.google.com/assets/colab-badge.svg\" alt=\"Open In Colab\"/></a>"
      ]
    },
    {
      "cell_type": "markdown",
      "metadata": {
        "id": "3C2j9BFqUTs7",
        "colab_type": "text"
      },
      "source": [
        "![](data:image/jpeg;base64,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)\n",
        "# **Física** - Live 2\n",
        "## Eletricidade - Revisão geral\n",
        "### Professor: Adeil Araújo"
      ]
    },
    {
      "cell_type": "code",
      "metadata": {
        "id": "DciMu_VEq9PV",
        "colab_type": "code",
        "outputId": "a398cebf-566a-482d-df0d-537d6c5c2bd7",
        "colab": {
          "base_uri": "https://localhost:8080/",
          "height": 112
        }
      },
      "source": [
        "#Antes de começar, alguns avisos sobre símbolos matemáticos.\n",
        "a=2+2     # \n",
        "print('a=',a)\n",
        "b=2-2     # multiplicação\n",
        "print('b=',b)\n",
        "c=2*2     # multiplicação\n",
        "print('c=',c)\n",
        "d=10/5      #divisão\n",
        "print('d=',d)\n",
        "\n",
        "#Notação científica\n",
        "2e2    #2.10² "
      ],
      "execution_count": 21,
      "outputs": [
        {
          "output_type": "stream",
          "text": [
            "a= 4\n",
            "b= 0\n",
            "c= 4\n",
            "d= 2.0\n"
          ],
          "name": "stdout"
        },
        {
          "output_type": "execute_result",
          "data": {
            "text/plain": [
              "200.0"
            ]
          },
          "metadata": {
            "tags": []
          },
          "execution_count": 21
        }
      ]
    },
    {
      "cell_type": "markdown",
      "metadata": {
        "id": "Tu3wConSotKc",
        "colab_type": "text"
      },
      "source": [
        "# **Parte 1**"
      ]
    },
    {
      "cell_type": "markdown",
      "metadata": {
        "id": "G0oZtTUUXsaz",
        "colab_type": "text"
      },
      "source": [
        "#Corrente Elétrica"
      ]
    },
    {
      "cell_type": "markdown",
      "metadata": {
        "id": "htMMSRG-q0wJ",
        "colab_type": "text"
      },
      "source": [
        "## 1.Estrutura da Matéria. Carga Elétrica"
      ]
    },
    {
      "cell_type": "markdown",
      "metadata": {
        "id": "XytJwqMZrJxF",
        "colab_type": "text"
      },
      "source": [
        "A matéria è constituída por átomos que são estruturados basicamente a partir de tês partículas: O elétron, o próton e o nêutron.\n",
        "\n",
        "![](https://s3.static.brasilescola.uol.com.br/img/2019/05/estrutura-do-atomo(1).jpg)"
      ]
    },
    {
      "cell_type": "markdown",
      "metadata": {
        "id": "ZViE_GVEwOW6",
        "colab_type": "text"
      },
      "source": [
        "Através de inúmeras experiências, foi possível comprovar que próton repele próton, elétron repele elétron, ao passo que prótons e elétrons atraem-se mutuamente. O nêutron não manifesta nenhuma atração ou repulsão, qualquer que seja a partícula da qual se aproxima.\n",
        "Destas experiências é possível concluir que prótons e elétrons apresentam uma propriedade não manifestada pelos nêutrons. Essa propriedade é denominada *carga elétrica*.\n",
        "* Prótons - Carga elétrica (+)\n",
        "* Elétrons - Carga elétrica (-)\n",
        "\n",
        "![](https://sites.google.com/site/umcursodefisica/_/rsrc/1495724787146/eletromagnetismo/imas-e-campo-magnetico/cargas.png?height=221&width=320)"
      ]
    },
    {
      "cell_type": "markdown",
      "metadata": {
        "id": "kAZXKPscxZc1",
        "colab_type": "text"
      },
      "source": [
        "A carga elétrica do próton é igual em módulo à carga elétrica do elétron constituindo a menos quantidade de carga elétrica encontrada livre na natureza. Seu valor é denominado carga elétrica elementar e representado por *e*. \n",
        "$$ Q_e = -1,6.10^{-19} C  $$\n",
        "$$ Q_p = +1,6.10^{-19} C  $$\n",
        "\n",
        "Tendo em vista que a eletrização de um corpo se deve à falta ou ao excesso de elétrons, podemos escrever que a carga elétrica de um corpo é dada por:\n",
        "$$ Q=\\pm n.e $$\n",
        "\n",
        "Na equação, n representa o número de elétrons em excesso (corpo eletrizado negativamente) ou em falta (corpo eletrizado positivamente)."
      ]
    },
    {
      "cell_type": "markdown",
      "metadata": {
        "id": "lkNwk7651RI6",
        "colab_type": "text"
      },
      "source": [
        "**Exercício 1**  \\\\\n",
        "Determine o número de elétrons que devem ser retirados de um corpo para que adquira uma carga elétrica $Q=1,28.10^{-6}$. É dada a carga elementar $e=1,6.10^{-19}$."
      ]
    },
    {
      "cell_type": "code",
      "metadata": {
        "id": "s1zUdzXA4dsk",
        "colab_type": "code",
        "outputId": "acfdc22b-1f82-431c-bc29-d50e82586199",
        "colab": {
          "base_uri": "https://localhost:8080/",
          "height": 36
        }
      },
      "source": [
        "#Resolução:\n",
        "#Dados: \n",
        "Q=1.28*10e-6\n",
        "e=1.6*10e-19\n",
        "n=Q/e\n",
        "print('O número de elétrons que dever ser retirados é de',f'{n:.2e}','.')"
      ],
      "execution_count": 23,
      "outputs": [
        {
          "output_type": "stream",
          "text": [
            "O número de elétrons que dever ser retirados é de 8.00e+12 .\n"
          ],
          "name": "stdout"
        }
      ]
    },
    {
      "cell_type": "markdown",
      "metadata": {
        "id": "De0g4nvxEBZ5",
        "colab_type": "text"
      },
      "source": [
        "## 2. Condutores e isolantes. Corrente elétrica\n",
        "\n",
        "**Definição:** \\\\\n",
        "\n",
        "Corrente elétrica é o movimento ordenado de cargas elétricas."
      ]
    },
    {
      "cell_type": "markdown",
      "metadata": {
        "id": "wJJIagneYE5m",
        "colab_type": "text"
      },
      "source": [
        "\n",
        "\n",
        "![](https://d3jlfsfsyc6yvi.cloudfront.net/image/mw:1024/q:85/https%3A%2F%2Fhaygot.s3.amazonaws.com%3A443%2Fcheatsheet%2F31565_2f37334e835f45b28e8ccc140af44431.png)"
      ]
    },
    {
      "cell_type": "markdown",
      "metadata": {
        "id": "fOw26WX2YZSP",
        "colab_type": "text"
      },
      "source": [
        "**Intensidade da corrente:**\n",
        "$$\n",
        "i = \\frac{Q}{\\Delta t}\\\\\n",
        "$$ \\\\\n",
        "Onde: \\\\\n",
        "* *i* representa a intensidade da corrente elétrica, sua unidade é o ampère (A).\n",
        "* *Q* Corresponde a carga elétrica total, sua unidade é o coulomb (C).\n",
        "* $\\Delta$t é o intervalo de tempo, dado em segundos (s).\n",
        "  "
      ]
    },
    {
      "cell_type": "markdown",
      "metadata": {
        "id": "mHgYznXkGExa",
        "colab_type": "text"
      },
      "source": [
        "**Exercício 2**  \\\\\n",
        "A intensidade da corrente elétrica que atravessa um condutor metálico é constante e igual a 5,0 A. Determine a carga elétrica que atravessa uma secção do condutor em 20s."
      ]
    },
    {
      "cell_type": "code",
      "metadata": {
        "id": "lkes6zfLhdDU",
        "colab_type": "code",
        "colab": {
          "base_uri": "https://localhost:8080/",
          "height": 36
        },
        "outputId": "fc2170c3-a1b3-407b-b9d9-b8cfb978b81b"
      },
      "source": [
        "#Resolução:\n",
        "#Dados: \n",
        "i= 5 #ampères\n",
        "dt= 20 # segundos\n",
        "Q=i*dt\n",
        "print('A carga elétrica é:',Q, 'coumlombs.')"
      ],
      "execution_count": 28,
      "outputs": [
        {
          "output_type": "stream",
          "text": [
            "A carga elétrica é: 100 coumlombs.\n"
          ],
          "name": "stdout"
        }
      ]
    },
    {
      "cell_type": "markdown",
      "metadata": {
        "id": "acwaqEr1iU3c",
        "colab_type": "text"
      },
      "source": [
        "**Exercício 3**  \\\\\n",
        "Por uma secção transversal de um condutor iônico passam, num intervalo de tempo de 20 s, cátions num sentido e ânions no outro. A carga elétrica transportada pelos cátions é de +8,0 C, e pelos ânions, -8,0 C.\n",
        "\n",
        "Qual é a intensidade da corrente elétrica nesse condutor?\n",
        "\n",
        "![](https://sites.google.com/site/montedefisica/_/rsrc/1472770356449/disciplinas/eletrodinamica/corrente-eletrica/f1.PNG)\n",
        "\n",
        "**Fórmula:**\n",
        "\n",
        "$$\n",
        "i = \\frac{|Q_+|+|Q_-|}{\\Delta t}\\\\\n",
        "$$ \\\\"
      ]
    },
    {
      "cell_type": "code",
      "metadata": {
        "id": "i99J8qDdmNFa",
        "colab_type": "code",
        "colab": {
          "base_uri": "https://localhost:8080/",
          "height": 36
        },
        "outputId": "8d1290a3-1474-4034-8a27-9f88e60f0777"
      },
      "source": [
        "#Resolução:\n",
        "#Dados: \n",
        "Q1= 8 #coulombs (Q+)\n",
        "Q2= 8 #coulombs\n",
        "dt= 20 # segundos\n",
        "i=(Q1+Q2)/dt\n",
        "print('A intensidade da corrente é:',i, 'ampères.')"
      ],
      "execution_count": 27,
      "outputs": [
        {
          "output_type": "stream",
          "text": [
            "A intensidade da corrente é: 0.8 ampères.\n"
          ],
          "name": "stdout"
        }
      ]
    },
    {
      "cell_type": "markdown",
      "metadata": {
        "id": "3j-GGr9EnkNo",
        "colab_type": "text"
      },
      "source": [
        "## 3. Propriedades gráficas.\n",
        "\n",
        "\n",
        "\n",
        "\n",
        "\n",
        "\n"
      ]
    },
    {
      "cell_type": "markdown",
      "metadata": {
        "id": "mxAYvFWx3i-t",
        "colab_type": "text"
      },
      "source": [
        "Quando a intensidade de corrente elétrica (i) varia com o tempo, é costume apresentarmos o seu comportamento através de um diagrama horário: i x t.\n",
        "\n",
        "![](https://interna.coceducacao.com.br/ebook/content/pictures/2002-11-122-06-i009.gif)\n",
        "\n",
        "Nesses casos, para obtermos a intensidade média de corrente elétrica ($i_m$), devemos, inicialmente, determinar a carga elétrica total ($Q$) correspondente ao intervalo de tempo de nosso interesse. A carga elétrica total ($Q$) é dada, numericamente, pela área sob a curva entre os instantes $t_1$ e $t_2$, conforme mostrado na figura a seguir."
      ]
    },
    {
      "cell_type": "markdown",
      "metadata": {
        "id": "NCx5GBL-xhTO",
        "colab_type": "text"
      },
      "source": [
        "**Exercício 4**  \\\\\n",
        "Determinar a intensidade média de corrente elétrica no intervalo de tempo de 0 a 4,0 s, conforme o gráfico abaixo.\n",
        "\n",
        "\n",
        "![](https://interna.coceducacao.com.br/ebook/content/pictures/2002-11-122-06-i012.gif)"
      ]
    },
    {
      "cell_type": "code",
      "metadata": {
        "id": "0IO3TRM2yaq2",
        "colab_type": "code",
        "colab": {
          "base_uri": "https://localhost:8080/",
          "height": 55
        },
        "outputId": "7c85b9a2-f1d1-43f9-83d3-830d1d6f8694"
      },
      "source": [
        "#Resolução:\n",
        "#Dados: \n",
        "B= 4 #base maior\n",
        "b= 2 #base menor\n",
        "h= 10 # segundos\n",
        "dt=4 #segundos\n",
        "Q=(B+b)*h/2\n",
        "print('A quantidade de carga é:',Q, 'coulombs')\n",
        "i=Q/dt\n",
        "print('A itensidade média da corrente é:',i,'ampères.')"
      ],
      "execution_count": 30,
      "outputs": [
        {
          "output_type": "stream",
          "text": [
            "A quantidade de carga é: 30.0 coulombs\n",
            "A itensidade média da corrente é: 7.5 ampères.\n"
          ],
          "name": "stdout"
        }
      ]
    },
    {
      "cell_type": "markdown",
      "metadata": {
        "id": "t3v1lWVg2tDc",
        "colab_type": "text"
      },
      "source": [
        "## 3. Tensão Elétrica ou diferença de ptencial (D.D.P)\n",
        "A condição primordial para se estabelecer um circuito elétrico é a presença de uma fonte elétrica, denominada gerador. Um gerador é um elemento capaz de transformar qualquer tipo de energia em energia elétrica e, nestas condições, manter uma diferença de potencial entre dois pontos.\n",
        "\n",
        "![](https://interna.coceducacao.com.br/ebook/content/pictures/2002-11-122-07-i005.jpg)\n",
        "\n",
        "O sentido da corrente elétrica convencional é do potencial elétrico maior para o potencial elétrico menor, sendo que os elétrons se movimentam, espontaneamente, no sentido contrário, ou seja, do menor para o maior potencial.\n",
        "\n",
        "![](https://interna.coceducacao.com.br/ebook/content/pictures/2002-11-122-07-i003.jpg)"
      ]
    },
    {
      "cell_type": "markdown",
      "metadata": {
        "id": "Rr3wFXZq-YmX",
        "colab_type": "text"
      },
      "source": [
        "#**Parte 2**"
      ]
    },
    {
      "cell_type": "markdown",
      "metadata": {
        "id": "peoUKtQIalEL",
        "colab_type": "text"
      },
      "source": [
        "#Resistência Elétrica - Resistores"
      ]
    },
    {
      "cell_type": "markdown",
      "metadata": {
        "id": "8cpSpYBeauOq",
        "colab_type": "text"
      },
      "source": [
        "##1.Efeito Joule\n",
        "\n",
        "Ao atravessar um condutor, as cargas elétricas elementares que constituem a corrente elétrica têm sua energia se convertendo em térmica, em virtude da interação com os átomos e moléculas que constituem o condutor. Essa conversão de energia recebe o nome de *Efeito Joule*  e é responsável pelo aquecimento do condutor ao ser atravessadp pela corrente elétrica.\n",
        "\n",
        "![](https://s5.static.brasilescola.uol.com.br/img/2019/09/elemento-resistivo-churrasqueira.jpg)"
      ]
    },
    {
      "cell_type": "markdown",
      "metadata": {
        "id": "NeHhbrTqkY6o",
        "colab_type": "text"
      },
      "source": [
        "*Resistor* é todo elemento do circuito cuja função exclusiva é transformar energia elétrica em energia térmica. \n",
        "\n",
        "![](https://s1.static.brasilescola.uol.com.br/be/2020/02/resistores-4.jpg)"
      ]
    },
    {
      "cell_type": "markdown",
      "metadata": {
        "id": "OwhcQiza_FEc",
        "colab_type": "text"
      },
      "source": [
        "##2.Lei de Ohm. Resistência elétrica"
      ]
    },
    {
      "cell_type": "markdown",
      "metadata": {
        "id": "yXAo5qhQa1I_",
        "colab_type": "text"
      },
      "source": [
        "##Lei de Ohm\n",
        "\n",
        "Verifica-se na prática que a intensidade $i$ da corrente elétrica que atravessa um resistor depende da d.d.p $U$ a que está submetido.\n",
        "Para certos resistores, mantidos em temperatura costante, a d.d.d $U$ e a intensidade da corrente $i$ são diretamente proporcionais. \n",
        "$$\n",
        "{v}={r}.{i}\n",
        "$$\n",
        "fórmula que traduz matematicamente a denominada *Lei de Ohm*.\n",
        "\n",
        "![](https://s1.static.brasilescola.uol.com.br/img/2019/06/formulas-da-lei-de-ohm.jpg)"
      ]
    },
    {
      "cell_type": "markdown",
      "metadata": {
        "id": "vGNRloZLHgSc",
        "colab_type": "text"
      },
      "source": [
        "**Exercício 5**  \\\\\n",
        "Determine a resistência elétrica de um resistor ôhmico que é percorrido por uma corrente elétrica de intensidade 0,50 A ao se estabelecer nos seus terminais uma tensão igual a 55V."
      ]
    },
    {
      "cell_type": "code",
      "metadata": {
        "id": "j6FuqErDOws4",
        "colab_type": "code",
        "colab": {
          "base_uri": "https://localhost:8080/",
          "height": 36
        },
        "outputId": "45fce492-7d2b-4d0e-e9b6-e7bd644a200b"
      },
      "source": [
        "#Resolução:\n",
        "#Dados: \n",
        "i= 0.5 #ampères\n",
        "u= 55 #volts\n",
        "r=u/i\n",
        "print('A resistência elétrica é:',r, 'ohms')\n"
      ],
      "execution_count": 34,
      "outputs": [
        {
          "output_type": "stream",
          "text": [
            "A resistência elétrica é: 110.0 ohms\n"
          ],
          "name": "stdout"
        }
      ]
    }
  ]
}