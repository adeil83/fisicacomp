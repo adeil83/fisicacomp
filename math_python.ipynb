{
  "nbformat": 4,
  "nbformat_minor": 0,
  "metadata": {
    "colab": {
      "name": "math_python.ipynb",
      "provenance": [],
      "collapsed_sections": [],
      "authorship_tag": "ABX9TyNgKNjxUlx4Fov9x6VF3PMw",
      "include_colab_link": true
    },
    "kernelspec": {
      "name": "python3",
      "display_name": "Python 3"
    }
  },
  "cells": [
    {
      "cell_type": "markdown",
      "metadata": {
        "id": "view-in-github",
        "colab_type": "text"
      },
      "source": [
        "<a href=\"https://colab.research.google.com/github/adeil83/fisicacomp/blob/master/math_python.ipynb\" target=\"_parent\"><img src=\"https://colab.research.google.com/assets/colab-badge.svg\" alt=\"Open In Colab\"/></a>"
      ]
    },
    {
      "cell_type": "markdown",
      "metadata": {
        "id": "IzaUkfbp8o2t",
        "colab_type": "text"
      },
      "source": [
        "#Matemática com Python\n"
      ]
    },
    {
      "cell_type": "markdown",
      "metadata": {
        "id": "a74Cz_dd9GU6",
        "colab_type": "text"
      },
      "source": [
        "##Capítulo 4 - Funções"
      ]
    },
    {
      "cell_type": "code",
      "metadata": {
        "id": "NipZ5kOu6CED",
        "colab_type": "code",
        "outputId": "33597e0f-9a45-4cd2-93a9-ea5d75b43ac6",
        "colab": {
          "base_uri": "https://localhost:8080/",
          "height": 36
        }
      },
      "source": [
        "#Exemplo 4.1\n",
        "#Função de uma variável\n",
        "\n",
        "#1. Define uma função. Neste caso, de uma única variável independente x.\n",
        "\n",
        "def calcula_f(x):\n",
        "  return 2*x\n",
        "\n",
        "#2. Chama a função para calcular o valor de x=3.0\n",
        "\n",
        "x=3.0\n",
        "y=calcula_f(x)\n",
        "\n",
        "#3. Imprime\n",
        "\n",
        "print('o valor de Calcula_f(x)=',y)"
      ],
      "execution_count": 0,
      "outputs": [
        {
          "output_type": "stream",
          "text": [
            "o valor de Calcula_f(x)= 6.0\n"
          ],
          "name": "stdout"
        }
      ]
    },
    {
      "cell_type": "code",
      "metadata": {
        "id": "sMKnxQQz8nmH",
        "colab_type": "code",
        "outputId": "92389e17-c025-4e35-eaeb-2310b5852e30",
        "colab": {
          "base_uri": "https://localhost:8080/",
          "height": 36
        }
      },
      "source": [
        "#Exemplo 4.2 - Definição de funções de duas variáveis\n",
        "\n",
        "#1. Define uma nova função. Neste caso, com duas variáveis independentes x e y\n",
        "\n",
        "def calcula_f(x,z):\n",
        "  return 2*x+3*z\n",
        "\n",
        "#2. Chama a função para calcular o valor para x=3.0 e z=2.0\n",
        "\n",
        "x=3.0\n",
        "z=2.0\n",
        "y=calcula_f(x,z)\n",
        "\n",
        "#3.Imprime\n",
        "\n",
        "print('y=',y)\n",
        "\n"
      ],
      "execution_count": 0,
      "outputs": [
        {
          "output_type": "stream",
          "text": [
            "y= 12.0\n"
          ],
          "name": "stdout"
        }
      ]
    },
    {
      "cell_type": "code",
      "metadata": {
        "id": "bV6UwD3W6ktp",
        "colab_type": "code",
        "outputId": "217c3bd1-7302-4382-cbc9-5fdfadbad08b",
        "colab": {
          "base_uri": "https://localhost:8080/",
          "height": 74
        }
      },
      "source": [
        "#Exemplo 4.2 (modificado) - Definição de funções de duas variáveis\n",
        "\n",
        "#1. Define uma nova função. Neste caso, com duas variáveis independentes x e y\n",
        "\n",
        "def calcula_f(x,z):\n",
        "  return 2*x+3*z\n",
        "\n",
        "#2. Chama a função para calcular o valor para x=3.0 e z=2.0\n",
        "\n",
        "x=float(input('Digite x='))\n",
        "z=float(input('Digite z='))\n",
        "y=calcula_f(x,z)\n",
        "\n",
        "#3.Imprime\n",
        "\n",
        "print('y=',y)"
      ],
      "execution_count": 0,
      "outputs": [
        {
          "output_type": "stream",
          "text": [
            "Digite x=3\n",
            "Digite z=2\n",
            "y= 12.0\n"
          ],
          "name": "stdout"
        }
      ]
    },
    {
      "cell_type": "code",
      "metadata": {
        "id": "4cf2sxAuQEaU",
        "colab_type": "code",
        "outputId": "a39a6946-9bef-48c4-bebb-11a32f664da4",
        "colab": {
          "base_uri": "https://localhost:8080/",
          "height": 36
        }
      },
      "source": [
        "#Exemplo 4.3\n",
        "#Função Polinomial\n",
        "\n",
        "#1. Define uma função. Neste caso, de uma única variável independente x.\n",
        "\n",
        "def calcula_f(x):\n",
        "  return 3*x**3-4*x**2+2*x-5\n",
        "\n",
        "#2. Chama a função para calcular o valor de x=3.0\n",
        "\n",
        "x=3.0\n",
        "y=calcula_f(x)\n",
        "\n",
        "#3. Imprime\n",
        "\n",
        "print('o valor de Calcula_f(x)=',y)"
      ],
      "execution_count": 0,
      "outputs": [
        {
          "output_type": "stream",
          "text": [
            "o valor de Calcula_f(x)= 46.0\n"
          ],
          "name": "stdout"
        }
      ]
    },
    {
      "cell_type": "code",
      "metadata": {
        "id": "C4eYR9jlQWWd",
        "colab_type": "code",
        "outputId": "d2d17ad6-b31e-4cb2-cd24-1b0609458d65",
        "colab": {
          "base_uri": "https://localhost:8080/",
          "height": 36
        }
      },
      "source": [
        "#Exemplo 4.4\n",
        "#Raízes de funções polinomiais\n",
        "\n",
        "from numpy import roots\n",
        "\n",
        "#Define os coeficientes da função de primeiro grau: 2x+1\n",
        "coeficientes=[2,1]\n",
        "raiz=roots(coeficientes)\n",
        "\n",
        "#imprime o resultado\n",
        "\n",
        "print(\"raiz de 2x+1 é: \", raiz)\n"
      ],
      "execution_count": 0,
      "outputs": [
        {
          "output_type": "stream",
          "text": [
            "raiz de 2x+1 é:  [-0.5]\n"
          ],
          "name": "stdout"
        }
      ]
    },
    {
      "cell_type": "code",
      "metadata": {
        "id": "R5emYa1oTHdp",
        "colab_type": "code",
        "outputId": "b9cc3e45-22ea-42d0-b838-351bb8667fe9",
        "colab": {
          "base_uri": "https://localhost:8080/",
          "height": 36
        }
      },
      "source": [
        "#Exemplo 4.4\n",
        "#Raízes de funções polinomiais\n",
        "\n",
        "from numpy import roots\n",
        "\n",
        "#Define os coeficientes da função de primeiro grau: x²-4x+3\n",
        "coeficientes=[1,-4,3]\n",
        "raizes=roots(coeficientes)\n",
        "\n",
        "#imprime o resultado\n",
        "\n",
        "print(\"As raizes de x²-4x+3 é: \", raizes)"
      ],
      "execution_count": 0,
      "outputs": [
        {
          "output_type": "stream",
          "text": [
            "As raizes de x²-4x+3 é:  [3. 1.]\n"
          ],
          "name": "stdout"
        }
      ]
    },
    {
      "cell_type": "code",
      "metadata": {
        "id": "lEZ3fJP7Te6j",
        "colab_type": "code",
        "outputId": "41d4af79-da27-48ea-b3fd-a25d8804a888",
        "colab": {
          "base_uri": "https://localhost:8080/",
          "height": 36
        }
      },
      "source": [
        "#Exemplo 4.4\n",
        "#Raízes de funções polinomiais\n",
        "\n",
        "from numpy import roots\n",
        "\n",
        "#Define os coeficientes da função de primeiro grau: x²+x+1\n",
        "coeficientes=[1,1,1]\n",
        "raizes=roots(coeficientes)\n",
        "\n",
        "#imprime o resultado\n",
        "\n",
        "print(\"As raizes de x²+x+1 é: \", raizes)"
      ],
      "execution_count": 0,
      "outputs": [
        {
          "output_type": "stream",
          "text": [
            "As raizes de x²+x+1 é:  [-0.5+0.8660254j -0.5-0.8660254j]\n"
          ],
          "name": "stdout"
        }
      ]
    },
    {
      "cell_type": "code",
      "metadata": {
        "id": "WMfae4K0Tzmr",
        "colab_type": "code",
        "outputId": "bc6c7cb0-a972-45e5-fb9b-ed489bf3def6",
        "colab": {
          "base_uri": "https://localhost:8080/",
          "height": 36
        }
      },
      "source": [
        "#Exemplo 4.4\n",
        "#Raízes de funções polinomiais\n",
        "\n",
        "from numpy import roots\n",
        "\n",
        "#Define os coeficientes da função de primeiro grau: 3x³-11x²+5x+3\n",
        "coeficientes=[3,-11,5,3]\n",
        "raizes=roots(coeficientes)\n",
        "\n",
        "#imprime o resultado\n",
        "\n",
        "print(\"As raizes de x³-11x²+5x+3 é: \", raizes)"
      ],
      "execution_count": 0,
      "outputs": [
        {
          "output_type": "stream",
          "text": [
            "As raizes de x³-11x²+5x+3 é:  [ 3.          1.         -0.33333333]\n"
          ],
          "name": "stdout"
        }
      ]
    },
    {
      "cell_type": "code",
      "metadata": {
        "id": "LxB3Aq53UF-Q",
        "colab_type": "code",
        "outputId": "ff4c051f-68bf-40f0-fa52-677f44bda1df",
        "colab": {
          "base_uri": "https://localhost:8080/",
          "height": 74
        }
      },
      "source": [
        "#Exemplo 4.5\n",
        "from math import sin,cos,tan,pi,radians\n",
        "y=sin(pi/2)\n",
        "print('y=',y)\n",
        "y1=cos(pi/6)\n",
        "print('y1=',y1)\n",
        "y2=tan(pi/4)\n",
        "print('y2=',y2)"
      ],
      "execution_count": 0,
      "outputs": [
        {
          "output_type": "stream",
          "text": [
            "y= 1.0\n",
            "y1= 0.8660254037844387\n",
            "y2= 0.9999999999999999\n"
          ],
          "name": "stdout"
        }
      ]
    },
    {
      "cell_type": "code",
      "metadata": {
        "id": "NrRUby65Vo2q",
        "colab_type": "code",
        "outputId": "65884b21-3c17-44df-f970-64e19c6a3d34",
        "colab": {
          "base_uri": "https://localhost:8080/",
          "height": 36
        }
      },
      "source": [
        "#Usa a função seno com argumento em graus\n",
        "angulo=radians(30)\n",
        "y=sin(angulo)\n",
        "print('y=',y)"
      ],
      "execution_count": 0,
      "outputs": [
        {
          "output_type": "stream",
          "text": [
            "y= 0.49999999999999994\n"
          ],
          "name": "stdout"
        }
      ]
    },
    {
      "cell_type": "code",
      "metadata": {
        "id": "Pb8cA8hXXooF",
        "colab_type": "code",
        "outputId": "fa49531d-159d-4e56-88d6-3161e71c07e6",
        "colab": {
          "base_uri": "https://localhost:8080/",
          "height": 36
        }
      },
      "source": [
        "#Em graus\n",
        "y=cos(radians(120))\n",
        "print('y=',y)"
      ],
      "execution_count": 0,
      "outputs": [
        {
          "output_type": "stream",
          "text": [
            "y= -0.4999999999999998\n"
          ],
          "name": "stdout"
        }
      ]
    },
    {
      "cell_type": "code",
      "metadata": {
        "id": "j1UOm1bDWkUz",
        "colab_type": "code",
        "outputId": "17d85158-9461-4962-e43f-b1c8eb9da366",
        "colab": {
          "base_uri": "https://localhost:8080/",
          "height": 36
        }
      },
      "source": [
        "#Em graus\n",
        "\n",
        "y=tan(radians(60))\n",
        "print('y=',y)"
      ],
      "execution_count": 0,
      "outputs": [
        {
          "output_type": "stream",
          "text": [
            "y= 1.7320508075688767\n"
          ],
          "name": "stdout"
        }
      ]
    },
    {
      "cell_type": "markdown",
      "metadata": {
        "id": "wawsEFdKZOUY",
        "colab_type": "text"
      },
      "source": [
        "#Capítulo 7 - Gráficos"
      ]
    },
    {
      "cell_type": "code",
      "metadata": {
        "id": "7IiwFstBZe1D",
        "colab_type": "code",
        "outputId": "24505598-7c99-486d-e6e9-9f06b0b47eae",
        "colab": {
          "base_uri": "https://localhost:8080/",
          "height": 284
        }
      },
      "source": [
        "#Exemplo 7.1\n",
        "from pylab import plot\n",
        "x=[0,1,2,3,4]\n",
        "y=[1,3,7,9,15]\n",
        "plot(x,y)"
      ],
      "execution_count": 0,
      "outputs": [
        {
          "output_type": "execute_result",
          "data": {
            "text/plain": [
              "[<matplotlib.lines.Line2D at 0x7f82445fdc18>]"
            ]
          },
          "metadata": {
            "tags": []
          },
          "execution_count": 31
        },
        {
          "output_type": "display_data",
          "data": {
            "image/png": "[encoded data removed]",
            "text/plain": [
              "<Figure size 432x288 with 1 Axes>"
            ]
          },
          "metadata": {
            "tags": [],
            "needs_background": "light"
          }
        }
      ]
    },
    {
      "cell_type": "code",
      "metadata": {
        "id": "qJPFoDd6azul",
        "colab_type": "code",
        "outputId": "d096b197-0d41-4cd7-a832-c8275881671f",
        "colab": {
          "base_uri": "https://localhost:8080/",
          "height": 322
        }
      },
      "source": [
        "#Exemplo 7.2\n",
        "from pylab import plot,arange\n",
        "\n",
        "x=arange(0,4,.5)\n",
        "y1=2*x\n",
        "y2=6*x\n",
        "y3=x**2\n",
        "plot(x,y1,x,y2,x,y3)\n"
      ],
      "execution_count": 0,
      "outputs": [
        {
          "output_type": "execute_result",
          "data": {
            "text/plain": [
              "[<matplotlib.lines.Line2D at 0x7f8244006e80>,\n",
              " <matplotlib.lines.Line2D at 0x7f8244006f98>,\n",
              " <matplotlib.lines.Line2D at 0x7f8244014128>]"
            ]
          },
          "metadata": {
            "tags": []
          },
          "execution_count": 33
        },
        {
          "output_type": "display_data",
          "data": {
            "image/png": "[encoded data removed]",
            "text/plain": [
              "<Figure size 432x288 with 1 Axes>"
            ]
          },
          "metadata": {
            "tags": [],
            "needs_background": "light"
          }
        }
      ]
    },
    {
      "cell_type": "code",
      "metadata": {
        "id": "ZBpu4OFZb9xA",
        "colab_type": "code",
        "outputId": "2824e1df-1a56-4760-8d91-724ab0fb6bfb",
        "colab": {
          "base_uri": "https://localhost:8080/",
          "height": 284
        }
      },
      "source": [
        "#Exemplo 7.3\n",
        "from pylab import plot,arange\n",
        "\n",
        "x=arange(0,4,.5)\n",
        "y1=2*x\n",
        "y2=6*x\n",
        "y3=x**2\n",
        "plot(x,y1,'v')\n",
        "plot(x,y2,'+')\n",
        "plot(x,y3,'*')"
      ],
      "execution_count": 0,
      "outputs": [
        {
          "output_type": "execute_result",
          "data": {
            "text/plain": [
              "[<matplotlib.lines.Line2D at 0x7f8243ef7be0>]"
            ]
          },
          "metadata": {
            "tags": []
          },
          "execution_count": 37
        },
        {
          "output_type": "display_data",
          "data": {
            "image/png": "[encoded data removed]",
            "text/plain": [
              "<Figure size 432x288 with 1 Axes>"
            ]
          },
          "metadata": {
            "tags": [],
            "needs_background": "light"
          }
        }
      ]
    },
    {
      "cell_type": "code",
      "metadata": {
        "id": "RQpSXQtskb9a",
        "colab_type": "code",
        "outputId": "35dfc5b6-ab92-4134-92d9-0ad880b733a9",
        "colab": {
          "base_uri": "https://localhost:8080/",
          "height": 284
        }
      },
      "source": [
        "#Exemplo 7.4\n",
        "from pylab import plot, arange\n",
        "\n",
        "x=arange(0,4,.5)\n",
        "y1=2*x\n",
        "y2=3*x\n",
        "y3=x**2\n",
        "plot(x,y1,'--')\n",
        "plot(x,y2,':')\n",
        "plot(x,y3,'-.')\n"
      ],
      "execution_count": 0,
      "outputs": [
        {
          "output_type": "execute_result",
          "data": {
            "text/plain": [
              "[<matplotlib.lines.Line2D at 0x7f8243fcbbe0>]"
            ]
          },
          "metadata": {
            "tags": []
          },
          "execution_count": 38
        },
        {
          "output_type": "display_data",
          "data": {
            "image/png": "[encoded data removed]",
            "text/plain": [
              "<Figure size 432x288 with 1 Axes>"
            ]
          },
          "metadata": {
            "tags": [],
            "needs_background": "light"
          }
        }
      ]
    },
    {
      "cell_type": "code",
      "metadata": {
        "id": "2uZy3HxBltHa",
        "colab_type": "code",
        "outputId": "fe617d0c-e097-495e-8cc7-045c5153a3be",
        "colab": {
          "base_uri": "https://localhost:8080/",
          "height": 284
        }
      },
      "source": [
        "#Exemplo 7.5\n",
        "from pylab import plot, arange\n",
        "\n",
        "x=arange(0,4,.5)\n",
        "y1=2*x\n",
        "y2=3*x\n",
        "y3=x**2\n",
        "plot(x,y1,'^g')\n",
        "plot(x,y2,'or')\n",
        "plot(x,y3,'*k')"
      ],
      "execution_count": 0,
      "outputs": [
        {
          "output_type": "execute_result",
          "data": {
            "text/plain": [
              "[<matplotlib.lines.Line2D at 0x7f8243e76a20>]"
            ]
          },
          "metadata": {
            "tags": []
          },
          "execution_count": 39
        },
        {
          "output_type": "display_data",
          "data": {
            "image/png": "[encoded data removed]",
            "text/plain": [
              "<Figure size 432x288 with 1 Axes>"
            ]
          },
          "metadata": {
            "tags": [],
            "needs_background": "light"
          }
        }
      ]
    },
    {
      "cell_type": "code",
      "metadata": {
        "id": "6wALG_WZmpDe",
        "colab_type": "code",
        "outputId": "a21dfba2-3e30-4cac-dfff-fd7e9737fb83",
        "colab": {
          "base_uri": "https://localhost:8080/",
          "height": 284
        }
      },
      "source": [
        "#Exemplo 7.6\n",
        "from pylab import plot, arange\n",
        "\n",
        "x=arange(0,4,.5)\n",
        "y1=2*x\n",
        "y2=3*x\n",
        "y3=x**2\n",
        "plot(x,y1,'xg:')\n",
        "plot(x,y2,'|r--')\n",
        "plot(x,y3,'hk-')\n"
      ],
      "execution_count": 0,
      "outputs": [
        {
          "output_type": "execute_result",
          "data": {
            "text/plain": [
              "[<matplotlib.lines.Line2D at 0x7f8243e62940>]"
            ]
          },
          "metadata": {
            "tags": []
          },
          "execution_count": 40
        },
        {
          "output_type": "display_data",
          "data": {
            "image/png": "[encoded data removed]",
            "text/plain": [
              "<Figure size 432x288 with 1 Axes>"
            ]
          },
          "metadata": {
            "tags": [],
            "needs_background": "light"
          }
        }
      ]
    },
    {
      "cell_type": "code",
      "metadata": {
        "id": "3lApWevfnaXs",
        "colab_type": "code",
        "outputId": "c7f15486-a887-49cd-c336-cede0c926397",
        "colab": {
          "base_uri": "https://localhost:8080/",
          "height": 284
        }
      },
      "source": [
        "#Exemplo 7.7 - Inclusão de legendas\n",
        "from pylab import plot, arange, legend\n",
        "x=arange(0,4,.5)\n",
        "y1=2*x\n",
        "y2=3*x\n",
        "y3=x**2\n",
        "plot(x,y1,'xg:',label='linha_1')\n",
        "plot(x,y2,'|r--',label='linha_2')\n",
        "plot(x,y3,'hk-',label='linha_3')\n",
        "legend(loc=2)"
      ],
      "execution_count": 0,
      "outputs": [
        {
          "output_type": "execute_result",
          "data": {
            "text/plain": [
              "<matplotlib.legend.Legend at 0x7f8243c4ec88>"
            ]
          },
          "metadata": {
            "tags": []
          },
          "execution_count": 44
        },
        {
          "output_type": "display_data",
          "data": {
            "image/png": "[encoded data removed]",
            "text/plain": [
              "<Figure size 432x288 with 1 Axes>"
            ]
          },
          "metadata": {
            "tags": [],
            "needs_background": "light"
          }
        }
      ]
    },
    {
      "cell_type": "code",
      "metadata": {
        "id": "2sDsKS2VqBfZ",
        "colab_type": "code",
        "outputId": "47d82d81-0b76-4b5c-9f52-44342ebd496d",
        "colab": {
          "base_uri": "https://localhost:8080/",
          "height": 284
        }
      },
      "source": [
        "#Inserção de texto\n",
        "#Exemplo 7.8\n",
        "from pylab import plot, arange, text\n",
        "\n",
        "x=arange(0,4,.5)\n",
        "y=3*x\n",
        "plot(x,y,'d')\n",
        "text(1,10,'Inclui texto no gráfico')\n",
        "\n"
      ],
      "execution_count": 0,
      "outputs": [
        {
          "output_type": "execute_result",
          "data": {
            "text/plain": [
              "Text(1, 10, 'Inclui texto no gráfico')"
            ]
          },
          "metadata": {
            "tags": []
          },
          "execution_count": 5
        },
        {
          "output_type": "display_data",
          "data": {
            "image/png": "[encoded data removed]",
            "text/plain": [
              "<Figure size 432x288 with 1 Axes>"
            ]
          },
          "metadata": {
            "tags": [],
            "needs_background": "light"
          }
        }
      ]
    },
    {
      "cell_type": "code",
      "metadata": {
        "id": "LFDQ3WkWXgIr",
        "colab_type": "code",
        "outputId": "940f2b33-ba25-4e0c-bfa8-8ca492eb7d41",
        "colab": {
          "base_uri": "https://localhost:8080/",
          "height": 314
        }
      },
      "source": [
        "#Exemplo 7.9\n",
        "\n",
        "from pylab import plot, arange, text, title, xlabel, ylabel, grid\n",
        "\n",
        "x=arange(0,4,.5)\n",
        "y=3*x\n",
        "plot(x,y,'^')\n",
        "text(1,10,'Inclui texto no gráfico')\n",
        "grid(True)\n",
        "xlabel('Eixo X')\n",
        "ylabel('Eixo Y')\n",
        "title('Nome do gráfico')"
      ],
      "execution_count": 0,
      "outputs": [
        {
          "output_type": "execute_result",
          "data": {
            "text/plain": [
              "Text(0.5, 1.0, 'Nome do gráfico')"
            ]
          },
          "metadata": {
            "tags": []
          },
          "execution_count": 23
        },
        {
          "output_type": "display_data",
          "data": {
            "image/png": "[encoded data removed]",
            "text/plain": [
              "<Figure size 432x288 with 1 Axes>"
            ]
          },
          "metadata": {
            "tags": [],
            "needs_background": "light"
          }
        }
      ]
    },
    {
      "cell_type": "code",
      "metadata": {
        "id": "gYka-um-d3C_",
        "colab_type": "code",
        "outputId": "7c4d4e13-63d4-4a1e-b9f5-fedb94ffd891",
        "colab": {
          "base_uri": "https://localhost:8080/",
          "height": 315
        }
      },
      "source": [
        "#Exemplo 7.10\n",
        "\n",
        "from pylab import plot, arange, xlabel,ylabel,title,grid,axhline,axvline\n",
        "\n",
        "x=arange(-2,4,.5)\n",
        "y=3*x\n",
        "plot(x,y,'r')\n",
        "xlabel('variável independente x')\n",
        "ylabel('função y=3x')\n",
        "title('Nome do gráfico')\n",
        "grid(True)\n",
        "\n",
        "axhline(y=0, color='k')\n",
        "axvline(x=0, color='k')"
      ],
      "execution_count": 0,
      "outputs": [
        {
          "output_type": "execute_result",
          "data": {
            "text/plain": [
              "<matplotlib.lines.Line2D at 0x7fe560f4f6a0>"
            ]
          },
          "metadata": {
            "tags": []
          },
          "execution_count": 21
        },
        {
          "output_type": "display_data",
          "data": {
            "image/png": "[encoded data removed]",
            "text/plain": [
              "<Figure size 432x288 with 1 Axes>"
            ]
          },
          "metadata": {
            "tags": [],
            "needs_background": "light"
          }
        }
      ]
    },
    {
      "cell_type": "code",
      "metadata": {
        "id": "s15poKIzk45q",
        "colab_type": "code",
        "outputId": "2acf6bad-b2eb-497c-f733-bc48c4de4bfa",
        "colab": {
          "base_uri": "https://localhost:8080/",
          "height": 296
        }
      },
      "source": [
        "from pylab import plot, arange, xlabel, ylabel, title, grid\n",
        "\n",
        "def calcula_f(x):\n",
        "  return x**2-2*x-3\n",
        "\n",
        "x=arange(-5.0,7.0,0.01)\n",
        "y=calcula_f(x)\n",
        "plot(x,y)\n",
        "xlabel('variável independente')\n",
        "ylabel('Função y=f(x)')\n",
        "title('Função quadrática y=x²-2x-3')\n",
        "grid(True)\n",
        "\n"
      ],
      "execution_count": 0,
      "outputs": [
        {
          "output_type": "display_data",
          "data": {
            "image/png": "[encoded data removed]",
            "text/plain": [
              "<Figure size 432x288 with 1 Axes>"
            ]
          },
          "metadata": {
            "tags": [],
            "needs_background": "light"
          }
        }
      ]
    },
    {
      "cell_type": "markdown",
      "metadata": {
        "id": "eY9CMthQ_57k",
        "colab_type": "text"
      },
      "source": [
        "#Notação científica"
      ]
    },
    {
      "cell_type": "markdown",
      "metadata": {
        "id": "BA04HKVQYY1b",
        "colab_type": "text"
      },
      "source": [
        "\n",
        "\n",
        "[Notação cientifica em Python\n",
        "](https://https://pt.stackoverflow.com/questions/363097/nota%C3%A7%C3%A3o-cientifica-em-python)\n"
      ]
    },
    {
      "cell_type": "code",
      "metadata": {
        "id": "6OKyZIBUmr8E",
        "colab_type": "code",
        "colab": {
          "base_uri": "https://localhost:8080/",
          "height": 36
        },
        "outputId": "adbac2ab-55e5-4438-a932-98af6c55bc00"
      },
      "source": [
        "número = 123456789.123456\n",
        "print('{:e}'.format(número))"
      ],
      "execution_count": 2,
      "outputs": [
        {
          "output_type": "stream",
          "text": [
            "1.234568e+08\n"
          ],
          "name": "stdout"
        }
      ]
    },
    {
      "cell_type": "code",
      "metadata": {
        "id": "eLREX6XQ_-z8",
        "colab_type": "code",
        "colab": {
          "base_uri": "https://localhost:8080/",
          "height": 36
        },
        "outputId": "68d93fe7-e6f9-4512-9f91-6e25141a904c"
      },
      "source": [
        "número = 123456789.123456\n",
        "print(f'{número:e}')\n"
      ],
      "execution_count": 3,
      "outputs": [
        {
          "output_type": "stream",
          "text": [
            "1.234568e+08\n"
          ],
          "name": "stdout"
        }
      ]
    },
    {
      "cell_type": "code",
      "metadata": {
        "id": "LboEslTKAMLi",
        "colab_type": "code",
        "colab": {
          "base_uri": "https://localhost:8080/",
          "height": 36
        },
        "outputId": "89911396-a48f-496e-cd3d-98874ee37bd9"
      },
      "source": [
        "número = 123456789.123456\n",
        "print(f'{número:.2e}')"
      ],
      "execution_count": 4,
      "outputs": [
        {
          "output_type": "stream",
          "text": [
            "1.23e+08\n"
          ],
          "name": "stdout"
        }
      ]
    },
    {
      "cell_type": "code",
      "metadata": {
        "id": "tc2p9-TrAbzu",
        "colab_type": "code",
        "colab": {
          "base_uri": "https://localhost:8080/",
          "height": 36
        },
        "outputId": "57c09b07-de4f-49ce-8d15-1f07d4bbc5ff"
      },
      "source": [
        "número = 123456789.123456\n",
        "print(f'{número:.2e}')"
      ],
      "execution_count": 5,
      "outputs": [
        {
          "output_type": "stream",
          "text": [
            "1.23e+08\n"
          ],
          "name": "stdout"
        }
      ]
    },
    {
      "cell_type": "code",
      "metadata": {
        "id": "F4UAE4adY-6P",
        "colab_type": "code",
        "colab": {}
      },
      "source": [
        ""
      ],
      "execution_count": 0,
      "outputs": []
    }
  ]
}